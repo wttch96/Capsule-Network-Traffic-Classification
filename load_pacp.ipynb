{
 "cells": [
  {
   "cell_type": "code",
   "outputs": [
    {
     "name": "stdout",
     "output_type": "stream",
     "text": [
      "加载模型 <class 'tuple'> <-- \"caches/pacp__.pkl\" (CacheType.PICKLE).\n",
      "torch.Size([10, 2])\n"
     ]
    }
   ],
   "source": [
    "from net import CapsuleNet\n",
    "from wttch.train.torch.utils import get_device_local\n",
    "import torch\n",
    "from util.data.USTC import USTCDataset\n",
    "from wttch.train.utils import cache_wrapper\n",
    "from torch.nn.functional import one_hot\n",
    "\n",
    "\n",
    "@cache_wrapper('pacp', save_path='caches')\n",
    "def load_pacp():\n",
    "    t = USTCDataset('USTC-TFC2016', N=20, M=1100)\n",
    "    t.load_data()\n",
    "    return t.data, t.label\n",
    "\n",
    "\n",
    "data, label = load_pacp()\n",
    "\n",
    "data = torch.tensor(data[:10, :, :], dtype=torch.float32).reshape(10, 1, 20, 1100).to(get_device_local())\n",
    "y = torch.from_numpy(label[:10]).to(get_device_local())\n",
    "y = one_hot(y, num_classes=20)\n",
    "net = CapsuleNet(2).to(get_device_local())\n",
    "loss_fn = torch.nn.MSELoss()\n",
    "y_pred = net(data)\n",
    "print(y_pred.shape)\n"
   ],
   "metadata": {
    "collapsed": false,
    "ExecuteTime": {
     "end_time": "2024-01-24T09:29:27.859168Z",
     "start_time": "2024-01-24T09:29:27.248956Z"
    }
   },
   "id": "572d60eca1e1271a",
   "execution_count": 3
  },
  {
   "cell_type": "code",
   "outputs": [],
   "source": [],
   "metadata": {
    "collapsed": false,
    "ExecuteTime": {
     "end_time": "2024-01-24T08:45:38.365816Z",
     "start_time": "2024-01-24T08:45:38.356231Z"
    }
   },
   "id": "1a8a96605b27723f",
   "execution_count": 2
  }
 ],
 "metadata": {
  "kernelspec": {
   "display_name": "Python 3",
   "language": "python",
   "name": "python3"
  },
  "language_info": {
   "codemirror_mode": {
    "name": "ipython",
    "version": 2
   },
   "file_extension": ".py",
   "mimetype": "text/x-python",
   "name": "python",
   "nbconvert_exporter": "python",
   "pygments_lexer": "ipython2",
   "version": "2.7.6"
  }
 },
 "nbformat": 4,
 "nbformat_minor": 5
}
