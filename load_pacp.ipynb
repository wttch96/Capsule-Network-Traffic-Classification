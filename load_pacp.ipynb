{
 "cells": [
  {
   "cell_type": "code",
   "outputs": [
    {
     "name": "stdout",
     "output_type": "stream",
     "text": [
      "加载模型 <class 'numpy.ndarray'> <-- \"caches/pacp__.pkl\" (CacheType.PICKLE).\n"
     ]
    },
    {
     "data": {
      "text/plain": "array([[ 0.32156863,  0.32941176,  0.        , ...,  0.        ,\n         0.        , 17.        ],\n       [ 0.03137255,  0.        ,  0.15294118, ...,  0.        ,\n         0.        , 17.        ],\n       [ 0.32156863,  0.32941176,  0.        , ...,  0.        ,\n         0.        , 17.        ],\n       ...,\n       [ 0.03137255,  0.        ,  0.15294118, ...,  0.        ,\n         0.        , 17.        ],\n       [ 0.32156863,  0.32941176,  0.        , ...,  0.        ,\n         0.        , 17.        ],\n       [ 0.03137255,  0.        ,  0.15294118, ...,  0.        ,\n         0.        , 17.        ]])"
     },
     "execution_count": 4,
     "metadata": {},
     "output_type": "execute_result"
    }
   ],
   "source": [
    "from wttch.train.utils import cache_wrapper\n",
    "from util.data.USTC import USTCDataset\n",
    "\n",
    "\n",
    "@cache_wrapper('pacp', save_path='caches')\n",
    "def load_pacp():\n",
    "    t = USTCDataset('USTC-TFC2016', N=20, M=1100)\n",
    "    t.load_data()\n",
    "    return t.data\n",
    "\n",
    "\n",
    "data = load_pacp()\n",
    "data[-1]"
   ],
   "metadata": {
    "collapsed": false,
    "ExecuteTime": {
     "end_time": "2024-01-23T16:38:46.000563Z",
     "start_time": "2024-01-23T16:38:45.641147Z"
    }
   },
   "id": "4ca6f89de37aa128",
   "execution_count": 4
  },
  {
   "cell_type": "code",
   "outputs": [],
   "source": [],
   "metadata": {
    "collapsed": false
   },
   "id": "572d60eca1e1271a"
  }
 ],
 "metadata": {
  "kernelspec": {
   "display_name": "Python 3",
   "language": "python",
   "name": "python3"
  },
  "language_info": {
   "codemirror_mode": {
    "name": "ipython",
    "version": 2
   },
   "file_extension": ".py",
   "mimetype": "text/x-python",
   "name": "python",
   "nbconvert_exporter": "python",
   "pygments_lexer": "ipython2",
   "version": "2.7.6"
  }
 },
 "nbformat": 4,
 "nbformat_minor": 5
}
